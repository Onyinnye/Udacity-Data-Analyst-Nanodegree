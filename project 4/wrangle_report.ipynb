{
 "cells": [
  {
   "cell_type": "markdown",
   "metadata": {},
   "source": [
    "### WeRateDogs - Twitter Data\n",
    "#### 1. Gather Data\n",
    "I looked at the instructions given by the Udacity team on how to gather data for this data warngling analysis.\n",
    "\n",
    "- I  downloaded the data twitter-archive-enhanced.csv from  Udacity.\n",
    "- Next I downloaded the file image predictions file which is in the tsv format.\n",
    "- Then I tried creating my twitter developer account but didn't get approval from tweeter so I downloaded the tweeter_api provided by udacity.\n",
    "\n",
    "Once I had all the above three files, I created them into 3 different dataframes which are shown below.\n",
    "\n",
    "- archive - this is a dataset \"twitter-archive-enhanced.csv\" which was converted into a dataframe and gives information on basic tweet data.\n",
    "\n",
    "- image_predictions - This dataset will contain information about predictions about the image\n",
    "\n",
    "- tweets_api - This dataset will contain information like tweet_id, no of retweets and no of favorites etc.,\n",
    "\n"
   ]
  },
  {
   "cell_type": "markdown",
   "metadata": {},
   "source": [
    "### 2  Assessing\n",
    "- In the assessing step, I tried to gather some quality and tidiness issue from the data I gathered.I  assessed all files concurrently for similar quality or tiiness issues\n",
    "\n",
    "Below are the quality and tidiness issues I accessed\n",
    "#### QUALITY\n",
    "\n",
    "##### Archive\n",
    "-  in_reply_to_status_id, in_reply_to_user_id, retweeted_status_id, retweeted_user_id, expanded_url and retweeted_status_timesttamp have missing rows\n",
    "\n",
    "- timestamp and retweeted_timestamp in object form\n",
    "- Correct denominators other than 10.\n",
    "- Source columns have HTML tags\n",
    "- tweet_id is in int type in both archive and image_prediction\n",
    "- Rating_numerator with decimal values incorrectly extracted\n",
    "- incorrect dog names contained(a, an, just,infugurated....etc)\n",
    "##### Image_prediction\n",
    "- dog breeds inconsistent,contains underscores, and have different case formatting\n",
    "- Rename Columns(p1,p2,p3,p1_dog,p2_dog,p3_dog,p1_conf,p2_conf,p3_conf)to improv clarity\n",
    "#### Tidiness\n",
    "##### archive_df table\n",
    "- the columns doggo, floofer,pupper and puppo should be variables in a column dog_stage \n",
    "##### All tables\n",
    "- All three tables share the column tweet_id and should be merged to archive_df\n"
   ]
  },
  {
   "cell_type": "markdown",
   "metadata": {},
   "source": [
    "\n",
    "### 3 Cleaning\n",
    "For cleaning all the 3 dataframes, Below are the steps I took to clean the dataframes from observtions made in the accessinng phase\n",
    "\n",
    "- I made a copy of all dataframes\n",
    "- I joined the 3 dataframes based on their tweet_id\n",
    "- I converted the datatype of \"tweet_id\" into string\n",
    "- I created a column called dog_stage for the ( puppo, pupper, doggo and the floofer stages), replaced \"none\" with null and dropped the null rows\n",
    "- I dropped all duplicates including the ones as a result of creating the dog_stage column\n",
    "- I converted timestamp which was in the string format to the datetime format\n",
    "- I removed the underscores from the dog breeds and removed the inconsistency in the name format which was a mixture of both lower and upper case\n",
    "- I removed the \"><\" from the source column so that the information would be properly extracted\n",
    "- I made all rows in the rating_denominator 10 to remove row information that contained >10 or <10 since 10 is the only rating denominator \n",
    "- I converted the ratings_denominators that are in decimal to float datatype\n",
    "- Rename Columns(p1,p2,p3,p1_dog,p2_dog,p3_dog,p1_conf,p2_conf,p3_conf)to improve clarity\n",
    "- I changed incorrect dog names (a, an, just, atually,all....etc)to none and then to nan and dropped the null rows\n",
    "- I Rename Columns(p1,p2,p3,p1_dog,p2_dog,p3_dog,p1_conf,p2_conf,p3_conf)to improve clarity\n",
    "- I removed the in_reply_to_status_id, in_reply_to_user_id, retweeted_status_id,\n",
    "- retweeted_status_user_id, and retweeted_status_timestamp columns which had so much missing rows as they won’t give accurate results if analysed \n",
    "- I also removed the retweet columnn since it's associated with the retweet_status_id\n"
   ]
  },
  {
   "cell_type": "markdown",
   "metadata": {},
   "source": [
    "### Storing Data\n",
    "- I stored the final dataframe into csv file with name twitter_archive_master.csv with final data of 2060 rows and 21 columns"
   ]
  },
  {
   "cell_type": "code",
   "execution_count": null,
   "metadata": {},
   "outputs": [],
   "source": []
  }
 ],
 "metadata": {
  "kernelspec": {
   "display_name": "Python 3",
   "language": "python",
   "name": "python3"
  },
  "language_info": {
   "codemirror_mode": {
    "name": "ipython",
    "version": 3
   },
   "file_extension": ".py",
   "mimetype": "text/x-python",
   "name": "python",
   "nbconvert_exporter": "python",
   "pygments_lexer": "ipython3",
   "version": "3.6.3"
  }
 },
 "nbformat": 4,
 "nbformat_minor": 2
}
